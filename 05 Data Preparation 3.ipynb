{
 "cells": [
  {
   "cell_type": "code",
   "execution_count": 1,
   "metadata": {
    "ExecuteTime": {
     "end_time": "2019-08-09T04:15:15.725198Z",
     "start_time": "2019-08-09T04:14:42.916892Z"
    }
   },
   "outputs": [
    {
     "name": "stderr",
     "output_type": "stream",
     "text": [
      "Using TensorFlow backend.\n"
     ]
    }
   ],
   "source": [
    "import pandas as pd\n",
    "import numpy as np\n",
    "from tqdm.auto import tqdm\n",
    "import re\n",
    "import pickle\n",
    "from keras.preprocessing.text import Tokenizer"
   ]
  },
  {
   "cell_type": "code",
   "execution_count": 2,
   "metadata": {
    "ExecuteTime": {
     "end_time": "2019-08-09T04:15:15.747136Z",
     "start_time": "2019-08-09T04:15:15.742150Z"
    }
   },
   "outputs": [],
   "source": [
    "tqdm.pandas()"
   ]
  },
  {
   "cell_type": "code",
   "execution_count": 6,
   "metadata": {
    "ExecuteTime": {
     "end_time": "2019-08-09T04:20:07.611004Z",
     "start_time": "2019-08-09T04:19:18.899205Z"
    }
   },
   "outputs": [
    {
     "data": {
      "application/vnd.jupyter.widget-view+json": {
       "model_id": "bb527a62141747f1833e85784bb7c3b3",
       "version_major": 2,
       "version_minor": 0
      },
      "text/plain": [
       "HBox(children=(IntProgress(value=0, max=5), HTML(value='')))"
      ]
     },
     "metadata": {},
     "output_type": "display_data"
    },
    {
     "name": "stdout",
     "output_type": "stream",
     "text": [
      "\n",
      "['d', 'hobby', 'craft', 'day', 'on']\n",
      "5\n",
      "File Read\n",
      "[[1], [2], [3], [4], [5]]\n",
      "5\n",
      "Indexed None\n",
      "Flattened 5\n"
     ]
    },
    {
     "data": {
      "application/vnd.jupyter.widget-view+json": {
       "model_id": "19084360ad014dee903802c95809a875",
       "version_major": 2,
       "version_minor": 0
      },
      "text/plain": [
       "HBox(children=(IntProgress(value=0, max=2), HTML(value='')))"
      ]
     },
     "metadata": {},
     "output_type": "display_data"
    },
    {
     "name": "stdout",
     "output_type": "stream",
     "text": [
      "\n",
      "Sequenced 2\n",
      "File Saved\n",
      "Model Saved\n"
     ]
    }
   ],
   "source": [
    "tokens = pd.read_csv('E:/Scrapped-Data/blogs/posts/tokens.csv')['tokens'][:5].progress_apply(lambda x:str(x).lower()).values.tolist()\n",
    "print(tokens)\n",
    "print(len(tokens))\n",
    "print('File Read')\n",
    "\n",
    "tokenizer = Tokenizer()\n",
    "tokenizer.fit_on_texts(tokens)\n",
    "tokens = tokenizer.texts_to_sequences(tokens)\n",
    "print(tokens)\n",
    "print('Indexed', print(len(tokens)))\n",
    "\n",
    "tokens = [item for sublist in tokens for item in sublist]\n",
    "print('Flattened', len(tokens))\n",
    "\n",
    "\n",
    "train_len = 3 + 1\n",
    "sequences = []\n",
    "\n",
    "for i in tqdm(range(train_len, len(tokens)+1)):\n",
    "    seq = tokens[i-train_len:i]\n",
    "    \n",
    "    sequences.append(seq)\n",
    "\n",
    "print('Sequenced', len(sequences))\n",
    "\n",
    "pd.DataFrame(sequences).to_csv('E:/Scrapped-Data/blogs/posts/sequences.csv', index=False)\n",
    "print('File Saved')\n",
    "\n",
    "\n",
    "pickle.dump(tokenizer, open('E:/Tokenizer.pkl', 'wb'))\n",
    "print('Model Saved')"
   ]
  },
  {
   "cell_type": "code",
   "execution_count": null,
   "metadata": {},
   "outputs": [],
   "source": []
  }
 ],
 "metadata": {
  "kernelspec": {
   "display_name": "Python 3",
   "language": "python",
   "name": "python3"
  },
  "language_info": {
   "codemirror_mode": {
    "name": "ipython",
    "version": 3
   },
   "file_extension": ".py",
   "mimetype": "text/x-python",
   "name": "python",
   "nbconvert_exporter": "python",
   "pygments_lexer": "ipython3",
   "version": "3.7.3"
  },
  "toc": {
   "base_numbering": 1,
   "nav_menu": {},
   "number_sections": true,
   "sideBar": true,
   "skip_h1_title": false,
   "title_cell": "Table of Contents",
   "title_sidebar": "Contents",
   "toc_cell": false,
   "toc_position": {},
   "toc_section_display": true,
   "toc_window_display": false
  },
  "varInspector": {
   "cols": {
    "lenName": 16,
    "lenType": 16,
    "lenVar": 40
   },
   "kernels_config": {
    "python": {
     "delete_cmd_postfix": "",
     "delete_cmd_prefix": "del ",
     "library": "var_list.py",
     "varRefreshCmd": "print(var_dic_list())"
    },
    "r": {
     "delete_cmd_postfix": ") ",
     "delete_cmd_prefix": "rm(",
     "library": "var_list.r",
     "varRefreshCmd": "cat(var_dic_list()) "
    }
   },
   "types_to_exclude": [
    "module",
    "function",
    "builtin_function_or_method",
    "instance",
    "_Feature"
   ],
   "window_display": false
  }
 },
 "nbformat": 4,
 "nbformat_minor": 2
}
