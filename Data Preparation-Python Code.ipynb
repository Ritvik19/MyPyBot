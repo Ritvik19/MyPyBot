{
 "cells": [
  {
   "cell_type": "code",
   "execution_count": 1,
   "metadata": {
    "ExecuteTime": {
     "end_time": "2019-08-20T13:08:14.055546Z",
     "start_time": "2019-08-20T13:07:19.624278Z"
    }
   },
   "outputs": [
    {
     "name": "stderr",
     "output_type": "stream",
     "text": [
      "Using TensorFlow backend.\n"
     ]
    },
    {
     "name": "stdout",
     "output_type": "stream",
     "text": [
      "18:38:14: Libraries Imported\n"
     ]
    }
   ],
   "source": [
    "import os\n",
    "import pandas as pd\n",
    "from tqdm.auto import tqdm\n",
    "import re\n",
    "import pickle\n",
    "from keras.preprocessing.text import Tokenizer\n",
    "import time, datetime\n",
    "\n",
    "def timestamp():\n",
    "    ts = time.time()\n",
    "    st = datetime.datetime.fromtimestamp(ts).strftime('%H:%M:%S:')\n",
    "    return st\n",
    "\n",
    "print(timestamp(), 'Libraries Imported')"
   ]
  },
  {
   "cell_type": "code",
   "execution_count": 2,
   "metadata": {
    "ExecuteTime": {
     "end_time": "2019-08-20T13:16:55.221129Z",
     "start_time": "2019-08-20T13:08:21.328172Z"
    }
   },
   "outputs": [
    {
     "data": {
      "application/vnd.jupyter.widget-view+json": {
       "model_id": "7a10d61cd36a4126bbdd23b69aa7a8bd",
       "version_major": 2,
       "version_minor": 0
      },
      "text/plain": [
       "HBox(children=(IntProgress(value=1, bar_style='info', max=1), HTML(value='')))"
      ]
     },
     "metadata": {},
     "output_type": "display_data"
    },
    {
     "name": "stdout",
     "output_type": "stream",
     "text": [
      "\n",
      "18:46:55: Data Extracted 14648\n"
     ]
    }
   ],
   "source": [
    "DOCSTRING_REGEX = re.compile(r\"\\\"\\\"\\\"(.|\\n)*?\\\"\\\"\\\"\")\n",
    "COMMENT_REGEX = re.compile(r\"#.*\")\n",
    "EXTRAWHITESPACES_REGEX = re.compile(r\"\\s+\")\n",
    "\n",
    "PYTHON_DIR = 'D:\\\\Users\\\\Ritvik\\\\Anaconda3\\\\envs\\\\datascience\\\\lib'\n",
    "count = 0\n",
    "with open('E:/Scrapped-Data/MyPyBot/python_code.txt','a', encoding='utf-8') as input_f:\n",
    "    for path, directories, files in tqdm(os.walk(PYTHON_DIR)):\n",
    "        for file in files:\n",
    "            if file.endswith('.py'):\n",
    "                try:\n",
    "                    with open(os.path.join(path, file), 'r') as data_f:\n",
    "                        contents = DOCSTRING_REGEX.sub('', data_f.read())\n",
    "                        contents = COMMENT_REGEX.sub('', contents)\n",
    "                    input_f.write(EXTRAWHITESPACES_REGEX.sub(' ', contents))\n",
    "                    input_f.write('\\n')\n",
    "                    count += 1\n",
    "                except Exception as e:\n",
    "#                     print(os.path.join(path, file) ,str(e))\n",
    "                    pass\n",
    "                    \n",
    "print(timestamp(), 'Data Extracted', count)             "
   ]
  },
  {
   "cell_type": "code",
   "execution_count": 3,
   "metadata": {
    "ExecuteTime": {
     "end_time": "2019-08-20T13:17:22.911401Z",
     "start_time": "2019-08-20T13:17:22.906414Z"
    }
   },
   "outputs": [],
   "source": [
    "tokenizer = Tokenizer()"
   ]
  },
  {
   "cell_type": "code",
   "execution_count": 4,
   "metadata": {
    "ExecuteTime": {
     "end_time": "2019-08-20T13:17:28.350542Z",
     "start_time": "2019-08-20T13:17:24.328137Z"
    }
   },
   "outputs": [
    {
     "name": "stdout",
     "output_type": "stream",
     "text": [
      "18:47:28: File Read\n"
     ]
    }
   ],
   "source": [
    "with open('E:/Scrapped-Data/MyPyBot/python_code.txt','r', encoding='utf-8') as f:\n",
    "    data = f.read()\n",
    "\n",
    "print(timestamp(), 'File Read')"
   ]
  },
  {
   "cell_type": "code",
   "execution_count": 5,
   "metadata": {
    "ExecuteTime": {
     "end_time": "2019-08-20T13:17:40.820568Z",
     "start_time": "2019-08-20T13:17:35.402117Z"
    }
   },
   "outputs": [
    {
     "data": {
      "text/plain": [
       "19921037"
      ]
     },
     "execution_count": 5,
     "metadata": {},
     "output_type": "execute_result"
    }
   ],
   "source": [
    "len(data.split())"
   ]
  },
  {
   "cell_type": "code",
   "execution_count": null,
   "metadata": {
    "ExecuteTime": {
     "start_time": "2019-08-20T13:17:58.447Z"
    }
   },
   "outputs": [],
   "source": [
    "tokenizer.fit_on_texts(data)\n",
    "print(timestamp(), 'Tokenizer Trained')\n",
    "\n",
    "pickle.dump(tokenizer, open('Tokenizer.pkl', 'wb'))\n",
    "print(timestamp(), 'Tokenizer Pickled')"
   ]
  },
  {
   "cell_type": "code",
   "execution_count": null,
   "metadata": {
    "ExecuteTime": {
     "end_time": "2019-08-20T13:03:00.751425Z",
     "start_time": "2019-08-20T13:02:33.038828Z"
    }
   },
   "outputs": [],
   "source": [
    "tokenizer = pickle.load(open('Tokenizer.pkl', 'rb'))\n",
    "\n",
    "data = tokenizer.texts_to_sequences(tqdm(data.split()))\n",
    "print(timestamp(), 'Data Tokenized')\n",
    "\n",
    "data = [item for sublist in tqdm(data) for item in sublist]\n",
    "print(timestamp(), 'Token List Flattened')"
   ]
  },
  {
   "cell_type": "code",
   "execution_count": null,
   "metadata": {
    "ExecuteTime": {
     "start_time": "2019-08-18T17:50:46.620Z"
    }
   },
   "outputs": [],
   "source": [
    "data = pd.DataFrame({'tokens':data}).to_csv('E:/Scrapped-Data/MyPyBot/py_tokens.csv', index=False)\n",
    "print('Data Saved')"
   ]
  },
  {
   "cell_type": "code",
   "execution_count": null,
   "metadata": {},
   "outputs": [],
   "source": []
  }
 ],
 "metadata": {
  "kernelspec": {
   "display_name": "Python 3",
   "language": "python",
   "name": "python3"
  },
  "language_info": {
   "codemirror_mode": {
    "name": "ipython",
    "version": 3
   },
   "file_extension": ".py",
   "mimetype": "text/x-python",
   "name": "python",
   "nbconvert_exporter": "python",
   "pygments_lexer": "ipython3",
   "version": "3.7.3"
  },
  "toc": {
   "base_numbering": 1,
   "nav_menu": {},
   "number_sections": true,
   "sideBar": true,
   "skip_h1_title": false,
   "title_cell": "Table of Contents",
   "title_sidebar": "Contents",
   "toc_cell": false,
   "toc_position": {},
   "toc_section_display": true,
   "toc_window_display": false
  },
  "varInspector": {
   "cols": {
    "lenName": 16,
    "lenType": 16,
    "lenVar": 40
   },
   "kernels_config": {
    "python": {
     "delete_cmd_postfix": "",
     "delete_cmd_prefix": "del ",
     "library": "var_list.py",
     "varRefreshCmd": "print(var_dic_list())"
    },
    "r": {
     "delete_cmd_postfix": ") ",
     "delete_cmd_prefix": "rm(",
     "library": "var_list.r",
     "varRefreshCmd": "cat(var_dic_list()) "
    }
   },
   "types_to_exclude": [
    "module",
    "function",
    "builtin_function_or_method",
    "instance",
    "_Feature"
   ],
   "window_display": false
  }
 },
 "nbformat": 4,
 "nbformat_minor": 2
}
