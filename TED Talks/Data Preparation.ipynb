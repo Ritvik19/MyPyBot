{
 "cells": [
  {
   "cell_type": "code",
   "execution_count": 3,
   "metadata": {
    "ExecuteTime": {
     "end_time": "2019-08-22T17:19:59.349583Z",
     "start_time": "2019-08-22T17:19:20.135053Z"
    }
   },
   "outputs": [
    {
     "name": "stdout",
     "output_type": "stream",
     "text": [
      "22:49:20: Libraries Imported\n"
     ]
    },
    {
     "data": {
      "application/vnd.jupyter.widget-view+json": {
       "model_id": "0234994d638246aab388b2a71b09e137",
       "version_major": 2,
       "version_minor": 0
      },
      "text/plain": [
       "HBox(children=(IntProgress(value=0, max=2467), HTML(value='')))"
      ]
     },
     "metadata": {},
     "output_type": "display_data"
    },
    {
     "name": "stdout",
     "output_type": "stream",
     "text": [
      "\n",
      "22:49:28: Data Read 27313338\n",
      "22:49:59: Model Trained\n"
     ]
    },
    {
     "ename": "AttributeError",
     "evalue": "Can't pickle local object 'LanguageModel.__init__.<locals>.<lambda>'",
     "output_type": "error",
     "traceback": [
      "\u001b[1;31m---------------------------------------------------------------------------\u001b[0m",
      "\u001b[1;31mAttributeError\u001b[0m                            Traceback (most recent call last)",
      "\u001b[1;32m<ipython-input-3-44ee7a210e95>\u001b[0m in \u001b[0;36m<module>\u001b[1;34m\u001b[0m\n\u001b[0;32m     58\u001b[0m \u001b[0mmypybot\u001b[0m\u001b[1;33m.\u001b[0m\u001b[0mtrain\u001b[0m\u001b[1;33m(\u001b[0m\u001b[0mdata\u001b[0m\u001b[1;33m)\u001b[0m\u001b[1;33m\u001b[0m\u001b[1;33m\u001b[0m\u001b[0m\n\u001b[0;32m     59\u001b[0m \u001b[0mprint\u001b[0m\u001b[1;33m(\u001b[0m\u001b[0mtimestamp\u001b[0m\u001b[1;33m(\u001b[0m\u001b[1;33m)\u001b[0m\u001b[1;33m,\u001b[0m \u001b[1;34m'Model Trained'\u001b[0m\u001b[1;33m)\u001b[0m\u001b[1;33m\u001b[0m\u001b[1;33m\u001b[0m\u001b[0m\n\u001b[1;32m---> 60\u001b[1;33m \u001b[0ms\u001b[0m \u001b[1;33m=\u001b[0m \u001b[0mpickle\u001b[0m\u001b[1;33m.\u001b[0m\u001b[0mdumps\u001b[0m\u001b[1;33m(\u001b[0m\u001b[0mmypybot\u001b[0m\u001b[1;33m)\u001b[0m\u001b[1;33m\u001b[0m\u001b[1;33m\u001b[0m\u001b[0m\n\u001b[0m\u001b[0;32m     61\u001b[0m \u001b[0mprint\u001b[0m\u001b[1;33m(\u001b[0m\u001b[0mtimestamp\u001b[0m\u001b[1;33m(\u001b[0m\u001b[1;33m)\u001b[0m\u001b[1;33m,\u001b[0m \u001b[1;34m'Model Pickled'\u001b[0m\u001b[1;33m)\u001b[0m\u001b[1;33m\u001b[0m\u001b[1;33m\u001b[0m\u001b[0m\n",
      "\u001b[1;31mAttributeError\u001b[0m: Can't pickle local object 'LanguageModel.__init__.<locals>.<lambda>'"
     ]
    }
   ],
   "source": [
    "# Input data files are available in the \"../input/\" directory.\n",
    "# Any results you write to the current directory are saved as output.\n",
    "\n",
    "import os\n",
    "import pandas as pd\n",
    "from tqdm.auto import tqdm\n",
    "import re\n",
    "import pickle\n",
    "import time, datetime\n",
    "from nltk import ngrams\n",
    "from collections import Counter, defaultdict\n",
    "\n",
    "tqdm.pandas()\n",
    "DIRECTORY = \"E:/Scrapped-Data/TED-Talks\"\n",
    "\n",
    "def timestamp():\n",
    "    ts = time.time()\n",
    "    st = datetime.datetime.fromtimestamp(ts).strftime('%H:%M:%S:')\n",
    "    return st\n",
    "print(timestamp(), 'Libraries Imported')\n",
    "\n",
    "NOT_WORDS_REGEX = re.compile(r\"[^a-zA-Z]\")\n",
    "EXTRAWHITESPACES_REGEX = re.compile(r\"\\s+\")\n",
    "\n",
    "data = ' '.join(pd.read_csv(DIRECTORY+'/transcripts.csv')['transcript'].progress_apply(lambda x : EXTRAWHITESPACES_REGEX.sub(' ',\n",
    "                                                                                NOT_WORDS_REGEX.sub(' ', x))).values)\n",
    "print(timestamp(), 'Data Read', len(data))\n",
    "\n",
    "class LanguageModel():\n",
    "    def __init__(self, n, pad_left=True, pad_right=True, left_pad_symbol='', right_pad_symbol=''):\n",
    "        self.model = defaultdict(lambda: defaultdict(lambda: 0))\n",
    "        self.n = n\n",
    "        self.pad_left= pad_left\n",
    "        self.pad_right= pad_right\n",
    "        self.left_pad_symbol= left_pad_symbol \n",
    "        self.right_pad_symbol= right_pad_symbol\n",
    "        \n",
    "        \n",
    "    def train(self, dataString):\n",
    "        word_grams = ngrams(dataString.split(), self.n+1,\n",
    "                            pad_left=self.pad_left, pad_right=self.pad_right, \n",
    "                            left_pad_symbol=self.left_pad_symbol, right_pad_symbol=self.right_pad_symbol)\n",
    "        for w in word_grams:\n",
    "            self.model[w[:-1]][w[-1]] += 1\n",
    "        for w1 in self.model:\n",
    "            total_count = float(sum(self.model[w1].values()))\n",
    "            for w2 in self.model[w1]:\n",
    "                self.model[w1][w2] /= total_count\n",
    "    \n",
    "    def predict(self, query):\n",
    "        try:\n",
    "            return dict(self.model[query])\n",
    "        except Exception as e:\n",
    "            print(e)\n",
    "            return ''\n",
    "        \n",
    "mypybot = LanguageModel(n=3)\n",
    "mypybot.train(data)\n",
    "print(timestamp(), 'Model Trained')\n",
    "s = pickle.dumps(mypybot)\n",
    "print(timestamp(), 'Model Pickled')"
   ]
  },
  {
   "cell_type": "code",
   "execution_count": 4,
   "metadata": {
    "ExecuteTime": {
     "end_time": "2019-08-22T17:21:11.382153Z",
     "start_time": "2019-08-22T17:21:11.050366Z"
    }
   },
   "outputs": [],
   "source": [
    "import dill"
   ]
  },
  {
   "cell_type": "code",
   "execution_count": null,
   "metadata": {
    "ExecuteTime": {
     "start_time": "2019-08-22T17:22:20.765Z"
    }
   },
   "outputs": [],
   "source": [
    "dill.dump(mypybot, open('model.pkl', 'wb'))"
   ]
  },
  {
   "cell_type": "code",
   "execution_count": null,
   "metadata": {},
   "outputs": [],
   "source": []
  }
 ],
 "metadata": {
  "kernelspec": {
   "display_name": "Python 3",
   "language": "python",
   "name": "python3"
  },
  "language_info": {
   "codemirror_mode": {
    "name": "ipython",
    "version": 3
   },
   "file_extension": ".py",
   "mimetype": "text/x-python",
   "name": "python",
   "nbconvert_exporter": "python",
   "pygments_lexer": "ipython3",
   "version": "3.7.3"
  },
  "toc": {
   "base_numbering": 1,
   "nav_menu": {},
   "number_sections": true,
   "sideBar": true,
   "skip_h1_title": false,
   "title_cell": "Table of Contents",
   "title_sidebar": "Contents",
   "toc_cell": false,
   "toc_position": {},
   "toc_section_display": true,
   "toc_window_display": false
  },
  "varInspector": {
   "cols": {
    "lenName": 16,
    "lenType": 16,
    "lenVar": 40
   },
   "kernels_config": {
    "python": {
     "delete_cmd_postfix": "",
     "delete_cmd_prefix": "del ",
     "library": "var_list.py",
     "varRefreshCmd": "print(var_dic_list())"
    },
    "r": {
     "delete_cmd_postfix": ") ",
     "delete_cmd_prefix": "rm(",
     "library": "var_list.r",
     "varRefreshCmd": "cat(var_dic_list()) "
    }
   },
   "types_to_exclude": [
    "module",
    "function",
    "builtin_function_or_method",
    "instance",
    "_Feature"
   ],
   "window_display": false
  }
 },
 "nbformat": 4,
 "nbformat_minor": 2
}
