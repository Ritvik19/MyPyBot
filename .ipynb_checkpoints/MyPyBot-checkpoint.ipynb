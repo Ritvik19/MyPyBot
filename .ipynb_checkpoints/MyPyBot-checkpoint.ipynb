{
 "cells": [
  {
   "cell_type": "markdown",
   "metadata": {},
   "source": [
    "**Libraries**"
   ]
  },
  {
   "cell_type": "code",
   "execution_count": 1,
   "metadata": {
    "ExecuteTime": {
     "end_time": "2020-01-24T15:53:55.199842Z",
     "start_time": "2020-01-24T15:53:53.924727Z"
    }
   },
   "outputs": [],
   "source": [
    "import sys, os\n",
    "from tqdm.auto import tqdm\n",
    "import time, datetime\n",
    "from nltk import ngrams\n",
    "import json, re\n",
    "from collections import Counter, defaultdict"
   ]
  },
  {
   "cell_type": "markdown",
   "metadata": {},
   "source": [
    "**REGEX** for data cleaning"
   ]
  },
  {
   "cell_type": "code",
   "execution_count": 2,
   "metadata": {
    "ExecuteTime": {
     "end_time": "2020-01-24T15:53:55.209724Z",
     "start_time": "2020-01-24T15:53:55.202742Z"
    }
   },
   "outputs": [],
   "source": [
    "DOCSTRING_REGEX = re.compile(r\"\\\"\\\"\\\"(.|\\n)*?\\\"\\\"\\\"\")\n",
    "COMMENT_REGEX = re.compile(r\"#.*\")\n",
    "NOT_WORDS_REGEX = re.compile(r\"[^a-zA-Z]\")\n",
    "EXTRAWHITESPACES_REGEX = re.compile(r\"\\s+\")"
   ]
  },
  {
   "cell_type": "markdown",
   "metadata": {},
   "source": [
    "**DIRECTORIES**"
   ]
  },
  {
   "cell_type": "code",
   "execution_count": 3,
   "metadata": {
    "ExecuteTime": {
     "end_time": "2020-01-24T15:53:55.347345Z",
     "start_time": "2020-01-24T15:53:55.219698Z"
    }
   },
   "outputs": [],
   "source": [
    "PYTHON_DIR = ['D:\\\\Users\\\\Ritvik\\\\Anaconda3\\\\envs\\\\datascience\\\\lib', 'D:\\\\Users\\\\Ritvik\\\\Anaconda3\\\\envs\\\\nlp_course\\\\lib',\n",
    "             'D:\\\\Users\\\\Ritvik\\\\Anaconda3\\\\envs\\\\Pyradox\\\\lib', 'D://Users//Ritvik//Anaconda3//envs\\\\tensorflow\\\\lib', \n",
    "             'D:\\\\Users\\\\Ritvik\\\\Anaconda3\\\\envs\\\\tfdeeplearning\\\\lib', 'D:\\\\Users\\\\Ritvik\\\\Anaconda3\\\\pkgs']"
   ]
  },
  {
   "cell_type": "markdown",
   "metadata": {},
   "source": [
    "**Model Initialization**"
   ]
  },
  {
   "cell_type": "code",
   "execution_count": 4,
   "metadata": {
    "ExecuteTime": {
     "end_time": "2020-01-24T15:53:55.499559Z",
     "start_time": "2020-01-24T15:53:55.360831Z"
    }
   },
   "outputs": [],
   "source": [
    "model = defaultdict(lambda: defaultdict(lambda: 0))\n",
    "n = 3"
   ]
  },
  {
   "cell_type": "markdown",
   "metadata": {},
   "source": [
    "**Training Function**"
   ]
  },
  {
   "cell_type": "code",
   "execution_count": 5,
   "metadata": {
    "ExecuteTime": {
     "end_time": "2020-01-24T15:53:55.648747Z",
     "start_time": "2020-01-24T15:53:55.501586Z"
    }
   },
   "outputs": [],
   "source": [
    "def train(dataString):\n",
    "    word_grams = ngrams(dataString.split(), n+1, pad_left=True, pad_right=True, left_pad_symbol='', right_pad_symbol='')\n",
    "    for w in word_grams:\n",
    "        model[w[:-1]][w[-1]] += 1"
   ]
  },
  {
   "cell_type": "code",
   "execution_count": 6,
   "metadata": {
    "ExecuteTime": {
     "end_time": "2020-01-24T15:53:55.786654Z",
     "start_time": "2020-01-24T15:53:55.656710Z"
    }
   },
   "outputs": [],
   "source": [
    "def normalize():\n",
    "    for w1 in model:\n",
    "        total_count = float(sum(model[w1].values()))\n",
    "    for w2 in model[w1]:\n",
    "        model[w1][w2] /= total_count\n",
    "    droplist = []\n",
    "    for w1 in model:\n",
    "        for w2 in model[w1]:\n",
    "            if model[w1][w2] < 0.1:\n",
    "                droplist.append((w1, w2))\n",
    "    for w1, w2 in droplist:\n",
    "        del model[w1][w2]\n",
    "    del droplist"
   ]
  },
  {
   "cell_type": "markdown",
   "metadata": {},
   "source": [
    "**Pickling**"
   ]
  },
  {
   "cell_type": "code",
   "execution_count": 7,
   "metadata": {
    "ExecuteTime": {
     "end_time": "2020-01-24T15:53:55.914384Z",
     "start_time": "2020-01-24T15:53:55.801617Z"
    }
   },
   "outputs": [],
   "source": [
    "DIR = 'E:/Models/MyPyBot-Probabilistic'\n",
    "os.mkdir(DIR)"
   ]
  },
  {
   "cell_type": "code",
   "execution_count": 8,
   "metadata": {
    "ExecuteTime": {
     "end_time": "2020-01-24T15:53:56.077938Z",
     "start_time": "2020-01-24T15:53:55.923355Z"
    }
   },
   "outputs": [],
   "source": [
    "def save_model():\n",
    "    with open(f'{DIR}/model.json', 'w') as f:\n",
    "        k = model.keys() \n",
    "        v = model.values() \n",
    "        k1 = [str(i) for i in k]\n",
    "        json.dump(json.dumps(dict(zip(*[k1,v]))),f)     "
   ]
  },
  {
   "cell_type": "code",
   "execution_count": null,
   "metadata": {
    "ExecuteTime": {
     "start_time": "2020-01-24T15:53:53.948Z"
    }
   },
   "outputs": [],
   "source": [
    "def load_model():\n",
    "    with open(f'{DIR}/model.json', 'r') as f:\n",
    "        data = json.load(f)\n",
    "        dic = json.loads(data)\n",
    "        k = dic.keys() \n",
    "        v = dic.values() \n",
    "        k1 = [eval(i) for i in k] \n",
    "        return dict(zip(*[k1,v]))"
   ]
  },
  {
   "cell_type": "markdown",
   "metadata": {},
   "source": [
    "**Training**"
   ]
  },
  {
   "cell_type": "code",
   "execution_count": null,
   "metadata": {
    "ExecuteTime": {
     "start_time": "2020-01-24T15:53:53.951Z"
    }
   },
   "outputs": [
    {
     "data": {
      "application/vnd.jupyter.widget-view+json": {
       "model_id": "b75f3e9ea5dd4ee3bc46d1904852b449",
       "version_major": 2,
       "version_minor": 0
      },
      "text/plain": [
       "HBox(children=(IntProgress(value=0, max=6), HTML(value='')))"
      ]
     },
     "metadata": {},
     "output_type": "display_data"
    },
    {
     "data": {
      "application/vnd.jupyter.widget-view+json": {
       "model_id": "4322da7a7ba84ab488e57c290bdc4788",
       "version_major": 2,
       "version_minor": 0
      },
      "text/plain": [
       "HBox(children=(IntProgress(value=1, bar_style='info', max=1), HTML(value='')))"
      ]
     },
     "metadata": {},
     "output_type": "display_data"
    }
   ],
   "source": [
    "unicode_count = 0\n",
    "count = 0\n",
    "bytes_ = 0\n",
    "\n",
    "for DIR in tqdm(PYTHON_DIR):\n",
    "    for path, directories, files in tqdm(os.walk(DIR)):\n",
    "        for file in files:\n",
    "            if file.endswith('.py'):\n",
    "                try:\n",
    "                    with open(os.path.join(path, file), 'r') as data_f:\n",
    "                        contents = DOCSTRING_REGEX.sub(' ', data_f.read())\n",
    "                        contents = COMMENT_REGEX.sub(' ', contents)\n",
    "                        contents = NOT_WORDS_REGEX.sub(' ', contents)\n",
    "                        contents = EXTRAWHITESPACES_REGEX.sub(' ', contents)\n",
    "                        \n",
    "                        train(contents)\n",
    "                        \n",
    "                        bytes_ += os.stat(os.path.join(path, file)).st_size\n",
    "                        count += 1\n",
    "                except UnicodeDecodeError:\n",
    "                    unicode_count += 1\n",
    "                except Exception as e:\n",
    "                    print(os.path.join(path, file) ,str(e))\n",
    "    save_model()\n",
    "    print(f\"trained on {count} files\")\n",
    "    print(f\"{bytes_} bytes ({bytes_/(1024*1024)} mega bytes) of data\")\n",
    "    print(f\"size of the model: {sys.getsizeof(model)/(1024*1024)} mega bytes\")\n",
    "normalize()\n",
    "print(f\"size of the model(normalized): {sys.getsizeof(model)/(1024*1024)} mega bytes\")"
   ]
  },
  {
   "cell_type": "markdown",
   "metadata": {},
   "source": [
    "**Predict Function**"
   ]
  },
  {
   "cell_type": "code",
   "execution_count": null,
   "metadata": {
    "ExecuteTime": {
     "start_time": "2020-01-24T15:53:53.956Z"
    }
   },
   "outputs": [],
   "source": [
    "def predict(query):\n",
    "    try:\n",
    "        DOCSTRING_REGEX = re.compile(r\"\\\"\\\"\\\"(.|\\n)*?\\\"\\\"\\\"\")\n",
    "        COMMENT_REGEX = re.compile(r\"#.*\")\n",
    "        NOT_WORDS_REGEX = re.compile(r\"[^a-zA-Z]\")\n",
    "        EXTRAWHITESPACES_REGEX = re.compile(r\"\\s+\")\n",
    "        query = DOCSTRING_REGEX.sub(' ', query)\n",
    "        query = COMMENT_REGEX.sub(' ', query)\n",
    "        query = NOT_WORDS_REGEX.sub(' ', query)\n",
    "        query = EXTRAWHITESPACES_REGEX.sub(' ', query)\n",
    "        query = tuple((['', '', '']+query.split())[-3:])\n",
    "        return dict(model[query])\n",
    "    except Exception as e:\n",
    "        print(e)\n",
    "        return ''"
   ]
  },
  {
   "cell_type": "code",
   "execution_count": null,
   "metadata": {},
   "outputs": [],
   "source": []
  }
 ],
 "metadata": {
  "kernelspec": {
   "display_name": "Python 3",
   "language": "python",
   "name": "python3"
  },
  "language_info": {
   "codemirror_mode": {
    "name": "ipython",
    "version": 3
   },
   "file_extension": ".py",
   "mimetype": "text/x-python",
   "name": "python",
   "nbconvert_exporter": "python",
   "pygments_lexer": "ipython3",
   "version": "3.7.3"
  },
  "toc": {
   "base_numbering": 1,
   "nav_menu": {},
   "number_sections": true,
   "sideBar": true,
   "skip_h1_title": false,
   "title_cell": "Table of Contents",
   "title_sidebar": "Contents",
   "toc_cell": false,
   "toc_position": {},
   "toc_section_display": true,
   "toc_window_display": false
  },
  "varInspector": {
   "cols": {
    "lenName": 16,
    "lenType": 16,
    "lenVar": 40
   },
   "kernels_config": {
    "python": {
     "delete_cmd_postfix": "",
     "delete_cmd_prefix": "del ",
     "library": "var_list.py",
     "varRefreshCmd": "print(var_dic_list())"
    },
    "r": {
     "delete_cmd_postfix": ") ",
     "delete_cmd_prefix": "rm(",
     "library": "var_list.r",
     "varRefreshCmd": "cat(var_dic_list()) "
    }
   },
   "types_to_exclude": [
    "module",
    "function",
    "builtin_function_or_method",
    "instance",
    "_Feature"
   ],
   "window_display": false
  }
 },
 "nbformat": 4,
 "nbformat_minor": 2
}
