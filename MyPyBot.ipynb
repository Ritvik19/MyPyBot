{
 "cells": [
  {
   "cell_type": "markdown",
   "metadata": {},
   "source": [
    "# Data Preparation\n",
    "Creates text data from the python libraries installed on your local system\n",
    "\n",
    "Just change the PYTHON_DIR accordingly"
   ]
  },
  {
   "cell_type": "code",
   "execution_count": 2,
   "metadata": {
    "ExecuteTime": {
     "end_time": "2019-08-26T10:40:31.060790Z",
     "start_time": "2019-08-26T10:35:19.515596Z"
    },
    "scrolled": true
   },
   "outputs": [
    {
     "name": "stdout",
     "output_type": "stream",
     "text": [
      "16:05:19: Libraries Imported\n"
     ]
    },
    {
     "data": {
      "application/vnd.jupyter.widget-view+json": {
       "model_id": "7a7bf026a176459194f50d54b016ac67",
       "version_major": 2,
       "version_minor": 0
      },
      "text/plain": [
       "HBox(children=(IntProgress(value=1, bar_style='info', max=1), HTML(value='')))"
      ]
     },
     "metadata": {},
     "output_type": "display_data"
    },
    {
     "name": "stdout",
     "output_type": "stream",
     "text": [
      "\n",
      "16:10:25: Data Extracted\n",
      "Files read successfully 14676\n",
      "Unique files 13357\n",
      "16:10:31: Data Saved\n"
     ]
    }
   ],
   "source": [
    "import re, os\n",
    "from tqdm.auto import tqdm\n",
    "import time, datetime\n",
    "\n",
    "def timestamp():\n",
    "    ts = time.time()\n",
    "    st = datetime.datetime.fromtimestamp(ts).strftime('%H:%M:%S:')\n",
    "    return st\n",
    "print(timestamp(), 'Libraries Imported')\n",
    "\n",
    "DOCSTRING_REGEX = re.compile(r\"\\\"\\\"\\\"(.|\\n)*?\\\"\\\"\\\"\")\n",
    "COMMENT_REGEX = re.compile(r\"#.*\")\n",
    "NOT_WORDS_REGEX = re.compile(r\"[^a-zA-Z]\")\n",
    "EXTRAWHITESPACES_REGEX = re.compile(r\"\\s+\")\n",
    "\n",
    "# virtual environments and installed packages\n",
    "PYTHON_DIR = ['D:\\\\Users\\\\Ritvik\\\\Anaconda3\\\\envs\\\\datascience\\\\lib', 'D:\\\\Users\\\\Ritvik\\\\Anaconda3\\\\envs\\\\nlp_course\\\\lib',\n",
    "             'D:\\\\Users\\\\Ritvik\\\\Anaconda3\\\\envs\\\\Pyradox\\\\lib', 'D://Users//Ritvik//Anaconda3//envs\\\\tensorflow\\\\lib', \n",
    "             'D:\\\\Users\\\\Ritvik\\\\Anaconda3\\\\envs\\\\tfdeeplearning\\\\lib', 'D:\\\\Users\\\\Ritvik\\\\Anaconda3\\\\pkgs']\n",
    "unicode_count = 0\n",
    "code = []\n",
    "\n",
    "for DIR in [PYTHON_DIR[0]]:\n",
    "    for path, directories, files in tqdm(os.walk(DIR)):\n",
    "        for file in files:\n",
    "            if file.endswith('.py'):\n",
    "                try:\n",
    "                    with open(os.path.join(path, file), 'r') as data_f:\n",
    "                        contents = DOCSTRING_REGEX.sub(' ', data_f.read())\n",
    "                        contents = COMMENT_REGEX.sub(' ', contents)\n",
    "                        contents = NOT_WORDS_REGEX.sub(' ', contents)\n",
    "                        contents = EXTRAWHITESPACES_REGEX.sub(' ', contents)\n",
    "                        code.append(contents)\n",
    "                except UnicodeDecodeError:\n",
    "                    unicode_count += 1\n",
    "                except Exception as e:\n",
    "                    print(os.path.join(path, file) ,str(e))\n",
    "\n",
    "print(timestamp(), 'Data Extracted')                    \n",
    "print('Files read successfully', len(code))\n",
    "code = list(set(code))\n",
    "print('Unique files', len(code))\n",
    "with open('E:/Scrapped-Data/MyPyBot/python_code.txt','w') as input_f:                        \n",
    "    input_f.write('\\n'.join(code))                    \n",
    "print(timestamp(), 'Data Saved')"
   ]
  },
  {
   "cell_type": "markdown",
   "metadata": {},
   "source": [
    "# Language Model \n",
    "\n",
    "Trained on \n",
    "1. [Kaggle Kernel](https://www.kaggle.com/ritvik1909/mypybot) using data from the first directory only\n",
    "2. [Google Colaoratory](https://colab.research.google.com/drive/1dqALTey2BD-jdxRFBDzJXp0Krw7_mIYy) using data from all directories\n"
   ]
  },
  {
   "cell_type": "code",
   "execution_count": null,
   "metadata": {
    "ExecuteTime": {
     "end_time": "2019-08-22T08:50:43.899831Z",
     "start_time": "2019-08-22T08:50:20.688746Z"
    }
   },
   "outputs": [],
   "source": [
    "import os\n",
    "import pandas as pd\n",
    "from tqdm.auto import tqdm\n",
    "import re\n",
    "import dill\n",
    "import time, datetime\n",
    "from nltk import ngrams\n",
    "from collections import Counter, defaultdict\n",
    "\n",
    "def timestamp():\n",
    "    ts = time.time()\n",
    "    st = datetime.datetime.fromtimestamp(ts).strftime('%H:%M:%S:')\n",
    "    return st\n",
    "print(timestamp(), 'Libraries Imported')\n",
    "\n",
    "with open('../input/python_code.txt','r') as f:\n",
    "    data = f.read()\n",
    "print(timestamp(), 'File Read', len(data))\n",
    "\n",
    "class LanguageModel():\n",
    "    def __init__(self, n, pad_left=True, pad_right=True, left_pad_symbol='', right_pad_symbol=''):\n",
    "        self.model = defaultdict(lambda: defaultdict(lambda: 0))\n",
    "        self.n = n\n",
    "        self.pad_left= pad_left\n",
    "        self.pad_right= pad_right\n",
    "        self.left_pad_symbol= left_pad_symbol \n",
    "        self.right_pad_symbol= right_pad_symbol\n",
    "        \n",
    "    def train(self, dataString):\n",
    "        word_grams = ngrams(dataString.split(), self.n+1,\n",
    "                            pad_left=self.pad_left, pad_right=self.pad_right, \n",
    "                            left_pad_symbol=self.left_pad_symbol, right_pad_symbol=self.right_pad_symbol)\n",
    "        for w in word_grams:\n",
    "            self.model[w[:-1]][w[-1]] += 1\n",
    "        for w1 in self.model:\n",
    "            total_count = float(sum(self.model[w1].values()))\n",
    "            for w2 in self.model[w1]:\n",
    "                self.model[w1][w2] /= total_count\n",
    "        droplist = []\n",
    "        for w1 in self.model:\n",
    "            for w2 in self.model[w1]:\n",
    "                if self.model[w1][w2] < 0.1:\n",
    "                    droplist.append((w1, w2))\n",
    "        for w1, w2 in droplist:\n",
    "            del self.model[w1][w2]\n",
    "        del droplist\n",
    "    def predict(self, query):\n",
    "        try:\n",
    "            DOCSTRING_REGEX = re.compile(r\"\\\"\\\"\\\"(.|\\n)*?\\\"\\\"\\\"\")\n",
    "            COMMENT_REGEX = re.compile(r\"#.*\")\n",
    "            NOT_WORDS_REGEX = re.compile(r\"[^a-zA-Z]\")\n",
    "            EXTRAWHITESPACES_REGEX = re.compile(r\"\\s+\")\n",
    "            query = DOCSTRING_REGEX.sub(' ', query)\n",
    "            query = COMMENT_REGEX.sub(' ', query)\n",
    "            query = NOT_WORDS_REGEX.sub(' ', query)\n",
    "            query = EXTRAWHITESPACES_REGEX.sub(' ', query)\n",
    "            if len(query.split()) >= 3:\n",
    "                query = tuple(query.split()[-3:])\n",
    "            else:\n",
    "                query = tuple((['', '', '']+query.split())[-3:])\n",
    "            return dict(self.model[query])\n",
    "        except Exception as e:\n",
    "            print(e)\n",
    "            return ''\n",
    "\n",
    "mypybot = LanguageModel(n=3)\n",
    "mypybot.train(data)\n",
    "print(timestamp(), 'Model Trained')\n",
    "# dill.dump(mypybot, open('Model.pkl', 'wb'))\n",
    "# print(timestamp(), 'Model Pickled')\n",
    "print(mypybot.predict(('import numpy as')))\n",
    "print(mypybot.predict(('import matplotlib.pyplot as')))"
   ]
  },
  {
   "cell_type": "code",
   "execution_count": null,
   "metadata": {},
   "outputs": [],
   "source": []
  }
 ],
 "metadata": {
  "kernelspec": {
   "display_name": "Python 3",
   "language": "python",
   "name": "python3"
  },
  "language_info": {
   "codemirror_mode": {
    "name": "ipython",
    "version": 3
   },
   "file_extension": ".py",
   "mimetype": "text/x-python",
   "name": "python",
   "nbconvert_exporter": "python",
   "pygments_lexer": "ipython3",
   "version": "3.7.3"
  },
  "toc": {
   "base_numbering": 1,
   "nav_menu": {},
   "number_sections": true,
   "sideBar": true,
   "skip_h1_title": false,
   "title_cell": "Table of Contents",
   "title_sidebar": "Contents",
   "toc_cell": false,
   "toc_position": {},
   "toc_section_display": true,
   "toc_window_display": false
  },
  "varInspector": {
   "cols": {
    "lenName": 16,
    "lenType": 16,
    "lenVar": 40
   },
   "kernels_config": {
    "python": {
     "delete_cmd_postfix": "",
     "delete_cmd_prefix": "del ",
     "library": "var_list.py",
     "varRefreshCmd": "print(var_dic_list())"
    },
    "r": {
     "delete_cmd_postfix": ") ",
     "delete_cmd_prefix": "rm(",
     "library": "var_list.r",
     "varRefreshCmd": "cat(var_dic_list()) "
    }
   },
   "types_to_exclude": [
    "module",
    "function",
    "builtin_function_or_method",
    "instance",
    "_Feature"
   ],
   "window_display": false
  }
 },
 "nbformat": 4,
 "nbformat_minor": 2
}
