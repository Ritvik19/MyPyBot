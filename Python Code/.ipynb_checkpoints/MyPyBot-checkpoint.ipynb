{
 "cells": [
  {
   "cell_type": "code",
   "execution_count": null,
   "metadata": {
    "ExecuteTime": {
     "end_time": "2019-08-21T11:12:52.092562Z",
     "start_time": "2019-08-21T11:09:54.721746Z"
    }
   },
   "outputs": [],
   "source": [
    "DOCSTRING_REGEX = re.compile(r\"\\\"\\\"\\\"(.|\\n)*?\\\"\\\"\\\"\")\n",
    "COMMENT_REGEX = re.compile(r\"#.*\")\n",
    "NOT_WORDS_REGEX = re.compile(r\"[^a-zA-Z]\")\n",
    "EXTRAWHITESPACES_REGEX = re.compile(r\"\\s+\")\n",
    "\n",
    "PYTHON_DIR = 'D:\\\\Users\\\\Ritvik\\\\Anaconda3\\\\envs\\\\datascience\\\\lib'\n",
    "count = 0\n",
    "with open('E:/Scrapped-Data/MyPyBot/python_code.txt','a') as input_f:\n",
    "    for path, directories, files in tqdm(os.walk(PYTHON_DIR)):\n",
    "        for file in files:\n",
    "            if file.endswith('.py'):\n",
    "                try:\n",
    "                    with open(os.path.join(path, file), 'r') as data_f:\n",
    "                        contents = DOCSTRING_REGEX.sub('', data_f.read())\n",
    "                        contents = COMMENT_REGEX.sub('', contents)\n",
    "                        contents = NOT_WORDS_REGEX.sub(' ', contents)\n",
    "                    input_f.write(EXTRAWHITESPACES_REGEX.sub(' ', contents))\n",
    "                    input_f.write('\\n')\n",
    "                    count += 1\n",
    "                except Exception as e:\n",
    "                    print(os.path.join(path, file) ,str(e))\n",
    "                    pass\n",
    "                    \n",
    "print(timestamp(), 'Data Extracted', count) "
   ]
  },
  {
   "cell_type": "code",
   "execution_count": null,
   "metadata": {
    "ExecuteTime": {
     "end_time": "2019-08-22T08:50:43.899831Z",
     "start_time": "2019-08-22T08:50:20.688746Z"
    }
   },
   "outputs": [],
   "source": [
    "import os\n",
    "import pandas as pd\n",
    "from tqdm.auto import tqdm\n",
    "import re\n",
    "import dill\n",
    "import time, datetime\n",
    "from nltk import ngrams\n",
    "from collections import Counter, defaultdict\n",
    "\n",
    "def timestamp():\n",
    "    ts = time.time()\n",
    "    st = datetime.datetime.fromtimestamp(ts).strftime('%H:%M:%S:')\n",
    "    return st\n",
    "print(timestamp(), 'Libraries Imported')\n",
    "\n",
    "with open('../input/python_code.txt','r') as f:\n",
    "    data = f.read()\n",
    "print(timestamp(), 'File Read', len(data))\n",
    "\n",
    "class LanguageModel():\n",
    "    def __init__(self, n, pad_left=True, pad_right=True, left_pad_symbol='', right_pad_symbol=''):\n",
    "        self.model = defaultdict(lambda: defaultdict(lambda: 0))\n",
    "        self.n = n\n",
    "        self.pad_left= pad_left\n",
    "        self.pad_right= pad_right\n",
    "        self.left_pad_symbol= left_pad_symbol \n",
    "        self.right_pad_symbol= right_pad_symbol\n",
    "        \n",
    "    def train(self, dataString):\n",
    "        word_grams = ngrams(dataString.split(), self.n+1,\n",
    "                            pad_left=self.pad_left, pad_right=self.pad_right, \n",
    "                            left_pad_symbol=self.left_pad_symbol, right_pad_symbol=self.right_pad_symbol)\n",
    "        for w in word_grams:\n",
    "            self.model[w[:-1]][w[-1]] += 1\n",
    "        for w1 in self.model:\n",
    "            total_count = float(sum(self.model[w1].values()))\n",
    "            for w2 in self.model[w1]:\n",
    "                self.model[w1][w2] /= total_count\n",
    "        droplist = []\n",
    "        for w1 in self.model:\n",
    "            for w2 in self.model[w1]:\n",
    "                if self.model[w1][w2] < 0.1:\n",
    "                    droplist.append((w1, w2))\n",
    "        for w1, w2 in droplist:\n",
    "            del self.model[w1][w2]\n",
    "        del droplist\n",
    "    def predict(self, query):\n",
    "        try:\n",
    "            DOCSTRING_REGEX = re.compile(r\"\\\"\\\"\\\"(.|\\n)*?\\\"\\\"\\\"\")\n",
    "            COMMENT_REGEX = re.compile(r\"#.*\")\n",
    "            NOT_WORDS_REGEX = re.compile(r\"[^a-zA-Z]\")\n",
    "            EXTRAWHITESPACES_REGEX = re.compile(r\"\\s+\")\n",
    "            query = DOCSTRING_REGEX.sub(' ', query)\n",
    "            query = COMMENT_REGEX.sub(' ', query)\n",
    "            query = NOT_WORDS_REGEX.sub(' ', query)\n",
    "            query = EXTRAWHITESPACES_REGEX.sub(' ', query)\n",
    "            if len(query.split()) >= 3:\n",
    "                query = tuple(query.split()[-3:])\n",
    "            else:\n",
    "                query = tuple((['', '', '']+query.split())[-3:])\n",
    "            return dict(self.model[query])\n",
    "        except Exception as e:\n",
    "            print(e)\n",
    "            return ''\n",
    "\n",
    "mypybot = LanguageModel(n=3)\n",
    "mypybot.train(data)\n",
    "print(timestamp(), 'Model Trained')\n",
    "# dill.dump(mypybot, open('Model.pkl', 'wb'))\n",
    "# print(timestamp(), 'Model Pickled')\n",
    "print(mypybot.predict(('import numpy as')))\n",
    "print(mypybot.predict(('import matplotlib.pyplot as')))"
   ]
  },
  {
   "cell_type": "code",
   "execution_count": null,
   "metadata": {},
   "outputs": [],
   "source": []
  }
 ],
 "metadata": {
  "kernelspec": {
   "display_name": "Python 3",
   "language": "python",
   "name": "python3"
  },
  "language_info": {
   "codemirror_mode": {
    "name": "ipython",
    "version": 3
   },
   "file_extension": ".py",
   "mimetype": "text/x-python",
   "name": "python",
   "nbconvert_exporter": "python",
   "pygments_lexer": "ipython3",
   "version": "3.7.3"
  },
  "toc": {
   "base_numbering": 1,
   "nav_menu": {},
   "number_sections": true,
   "sideBar": true,
   "skip_h1_title": false,
   "title_cell": "Table of Contents",
   "title_sidebar": "Contents",
   "toc_cell": false,
   "toc_position": {},
   "toc_section_display": true,
   "toc_window_display": false
  },
  "varInspector": {
   "cols": {
    "lenName": 16,
    "lenType": 16,
    "lenVar": 40
   },
   "kernels_config": {
    "python": {
     "delete_cmd_postfix": "",
     "delete_cmd_prefix": "del ",
     "library": "var_list.py",
     "varRefreshCmd": "print(var_dic_list())"
    },
    "r": {
     "delete_cmd_postfix": ") ",
     "delete_cmd_prefix": "rm(",
     "library": "var_list.r",
     "varRefreshCmd": "cat(var_dic_list()) "
    }
   },
   "types_to_exclude": [
    "module",
    "function",
    "builtin_function_or_method",
    "instance",
    "_Feature"
   ],
   "window_display": false
  }
 },
 "nbformat": 4,
 "nbformat_minor": 2
}
